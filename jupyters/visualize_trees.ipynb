{
 "cells": [
  {
   "cell_type": "code",
   "execution_count": null,
   "metadata": {},
   "outputs": [],
   "source": [
    "import laspy"
   ]
  }
 ],
 "metadata": {
  "kernelspec": {
   "display_name": "Python 3.8.13 ('pdal-env-1')",
   "language": "python",
   "name": "python3"
  },
  "language_info": {
   "name": "python",
   "version": "3.8.13"
  },
  "orig_nbformat": 4,
  "vscode": {
   "interpreter": {
    "hash": "e65a58d6d942466af6772a70ab6c1bbe032b5a85dc8e56cc802efc8b6c619b68"
   }
  }
 },
 "nbformat": 4,
 "nbformat_minor": 2
}
